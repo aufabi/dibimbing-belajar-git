{
 "cells": [
  {
   "cell_type": "code",
   "execution_count": 1,
   "id": "a4671b68-2d4a-4d97-ae7e-7e5706f0b87e",
   "metadata": {},
   "outputs": [],
   "source": [
    "def penjumlahan(x,y):\n",
    "    return x+y"
   ]
  },
  {
   "cell_type": "code",
   "execution_count": null,
   "id": "4fb7ec13-45af-4afc-8065-f70df9e5cba5",
   "metadata": {},
   "outputs": [],
   "source": []
  }
 ],
 "metadata": {
  "kernelspec": {
   "display_name": "Python 3 (ipykernel)",
   "language": "python",
   "name": "python3"
  },
  "language_info": {
   "codemirror_mode": {
    "name": "ipython",
    "version": 3
   },
   "file_extension": ".py",
   "mimetype": "text/x-python",
   "name": "python",
   "nbconvert_exporter": "python",
   "pygments_lexer": "ipython3",
   "version": "3.12.4"
  }
 },
 "nbformat": 4,
 "nbformat_minor": 5
}
